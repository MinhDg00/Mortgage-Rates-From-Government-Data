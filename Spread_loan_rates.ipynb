{
  "nbformat": 4,
  "nbformat_minor": 0,
  "metadata": {
    "kernelspec": {
      "display_name": "Python 3",
      "language": "python",
      "name": "python3"
    },
    "language_info": {
      "codemirror_mode": {
        "name": "ipython",
        "version": 3
      },
      "file_extension": ".py",
      "mimetype": "text/x-python",
      "name": "python",
      "nbconvert_exporter": "python",
      "pygments_lexer": "ipython3",
      "version": "3.7.3"
    },
    "colab": {
      "name": "Mortgage-rates.ipynb",
      "provenance": [],
      "collapsed_sections": []
    }
  },
  "cells": [
    {
      "cell_type": "code",
      "metadata": {
        "id": "WjhWBjAqO7U-",
        "colab_type": "code",
        "colab": {}
      },
      "source": [
        "!pip install xgboost\n",
        "!pip install lightgbm"
      ],
      "execution_count": 0,
      "outputs": []
    },
    {
      "cell_type": "code",
      "metadata": {
        "id": "xErO9au0O-0G",
        "colab_type": "code",
        "colab": {}
      },
      "source": [
        "from google.colab import drive\n",
        "drive.mount('/content/drive')"
      ],
      "execution_count": 0,
      "outputs": []
    },
    {
      "cell_type": "code",
      "metadata": {
        "id": "Z1tu0vkVO7VC",
        "colab_type": "code",
        "outputId": "b0a0a30c-b810-41f7-82a5-d1e97808d1c2",
        "colab": {
          "base_uri": "https://localhost:8080/",
          "height": 80
        }
      },
      "source": [
        "import numpy as np\n",
        "import pandas as pd\n",
        "import matplotlib.pyplot as plt\n",
        "import matplotlib.image as mpimg\n",
        "import seaborn as sns\n",
        "import tensorflow as tf\n",
        "import warnings\n",
        "from statsmodels.graphics.gofplots import qqplot\n",
        "from scipy.stats import shapiro, spearmanr, stats, kruskal, f_oneway\n",
        "from sklearn.preprocessing import scale, StandardScaler, OneHotEncoder, LabelEncoder, RobustScaler\n",
        "from sklearn.model_selection import train_test_split, cross_val_score, GridSearchCV, KFold, StratifiedKFold\n",
        "from sklearn.linear_model import Ridge, Lasso, LinearRegression, ElasticNet\n",
        "from sklearn.metrics import mean_squared_error, r2_score, mean_absolute_error\n",
        "from sklearn.impute import SimpleImputer, MissingIndicator\n",
        "from xgboost import XGBRegressor\n",
        "from lightgbm import LGBMRegressor\n",
        "from sklearn.ensemble import RandomForestRegressor, GradientBoostingRegressor\n",
        "\n",
        "warnings.filterwarnings('ignore')\n",
        "%matplotlib inline"
      ],
      "execution_count": 0,
      "outputs": [
        {
          "output_type": "display_data",
          "data": {
            "text/html": [
              "<p style=\"color: red;\">\n",
              "The default version of TensorFlow in Colab will soon switch to TensorFlow 2.x.<br>\n",
              "We recommend you <a href=\"https://www.tensorflow.org/guide/migrate\" target=\"_blank\">upgrade</a> now \n",
              "or ensure your notebook will continue to use TensorFlow 1.x via the <code>%tensorflow_version 1.x</code> magic:\n",
              "<a href=\"https://colab.research.google.com/notebooks/tensorflow_version.ipynb\" target=\"_blank\">more info</a>.</p>\n"
            ],
            "text/plain": [
              "<IPython.core.display.HTML object>"
            ]
          },
          "metadata": {
            "tags": []
          }
        }
      ]
    },
    {
      "cell_type": "code",
      "metadata": {
        "id": "YcdRevHOO7VE",
        "colab_type": "code",
        "outputId": "a58e9797-8031-47d7-92f1-bbf9b7068dc2",
        "colab": {
          "base_uri": "https://localhost:8080/",
          "height": 462
        }
      },
      "source": [
        "types_y = {'row_id':'int64', 'rate_spread': 'float64'}\n",
        "#types_x = {'row_id':'int64', 'loan_type': 'object', 'property_type':'object',\n",
        "#           'loan_purpose':'object' , 'occupancy': 'categorical', 'loan_amount': 'float64', \n",
        "#           'preapproval': 'category', 'msa_md': 'category' , 'state_code' : 'category', 'county_code':'category',\n",
        "#          'applicant_ethnicity':'category', 'applicant_race':'category', 'applicant_sex':'category',\n",
        "#           'lender': 'category'}\n",
        "train_values = pd.read_csv('/content/drive/My Drive/Final Capstone/train_values.csv')\n",
        "train_labels = pd.read_csv('/content/drive/My Drive/Final Capstone/train_labels_abiUmgM.csv', dtype = types_y)\n",
        "test_values = pd.read_csv('/content/drive/My Drive/Final Capstone/test_values.csv' ) "
      ],
      "execution_count": 0,
      "outputs": [
        {
          "output_type": "error",
          "ename": "FileNotFoundError",
          "evalue": "ignored",
          "traceback": [
            "\u001b[0;31m---------------------------------------------------------------------------\u001b[0m",
            "\u001b[0;31mFileNotFoundError\u001b[0m                         Traceback (most recent call last)",
            "\u001b[0;32m<ipython-input-4-5b5455776784>\u001b[0m in \u001b[0;36m<module>\u001b[0;34m()\u001b[0m\n\u001b[1;32m      5\u001b[0m \u001b[0;31m#          'applicant_ethnicity':'category', 'applicant_race':'category', 'applicant_sex':'category',\u001b[0m\u001b[0;34m\u001b[0m\u001b[0;34m\u001b[0m\u001b[0;34m\u001b[0m\u001b[0m\n\u001b[1;32m      6\u001b[0m \u001b[0;31m#           'lender': 'category'}\u001b[0m\u001b[0;34m\u001b[0m\u001b[0;34m\u001b[0m\u001b[0;34m\u001b[0m\u001b[0m\n\u001b[0;32m----> 7\u001b[0;31m \u001b[0mtrain_values\u001b[0m \u001b[0;34m=\u001b[0m \u001b[0mpd\u001b[0m\u001b[0;34m.\u001b[0m\u001b[0mread_csv\u001b[0m\u001b[0;34m(\u001b[0m\u001b[0;34m'/content/drive/My Drive/Final Capstone/train_values.csv'\u001b[0m\u001b[0;34m)\u001b[0m\u001b[0;34m\u001b[0m\u001b[0;34m\u001b[0m\u001b[0m\n\u001b[0m\u001b[1;32m      8\u001b[0m \u001b[0mtrain_labels\u001b[0m \u001b[0;34m=\u001b[0m \u001b[0mpd\u001b[0m\u001b[0;34m.\u001b[0m\u001b[0mread_csv\u001b[0m\u001b[0;34m(\u001b[0m\u001b[0;34m'/content/drive/My Drive/Final Capstone/train_labels_abiUmgM.csv'\u001b[0m\u001b[0;34m,\u001b[0m \u001b[0mdtype\u001b[0m \u001b[0;34m=\u001b[0m \u001b[0mtypes_y\u001b[0m\u001b[0;34m)\u001b[0m\u001b[0;34m\u001b[0m\u001b[0;34m\u001b[0m\u001b[0m\n\u001b[1;32m      9\u001b[0m \u001b[0mtest_values\u001b[0m \u001b[0;34m=\u001b[0m \u001b[0mpd\u001b[0m\u001b[0;34m.\u001b[0m\u001b[0mread_csv\u001b[0m\u001b[0;34m(\u001b[0m\u001b[0;34m'/content/drive/My Drive/Final Capstone/test_values.csv'\u001b[0m \u001b[0;34m)\u001b[0m\u001b[0;34m\u001b[0m\u001b[0;34m\u001b[0m\u001b[0m\n",
            "\u001b[0;32m/usr/local/lib/python3.6/dist-packages/pandas/io/parsers.py\u001b[0m in \u001b[0;36mparser_f\u001b[0;34m(filepath_or_buffer, sep, delimiter, header, names, index_col, usecols, squeeze, prefix, mangle_dupe_cols, dtype, engine, converters, true_values, false_values, skipinitialspace, skiprows, skipfooter, nrows, na_values, keep_default_na, na_filter, verbose, skip_blank_lines, parse_dates, infer_datetime_format, keep_date_col, date_parser, dayfirst, cache_dates, iterator, chunksize, compression, thousands, decimal, lineterminator, quotechar, quoting, doublequote, escapechar, comment, encoding, dialect, error_bad_lines, warn_bad_lines, delim_whitespace, low_memory, memory_map, float_precision)\u001b[0m\n\u001b[1;32m    683\u001b[0m         )\n\u001b[1;32m    684\u001b[0m \u001b[0;34m\u001b[0m\u001b[0m\n\u001b[0;32m--> 685\u001b[0;31m         \u001b[0;32mreturn\u001b[0m \u001b[0m_read\u001b[0m\u001b[0;34m(\u001b[0m\u001b[0mfilepath_or_buffer\u001b[0m\u001b[0;34m,\u001b[0m \u001b[0mkwds\u001b[0m\u001b[0;34m)\u001b[0m\u001b[0;34m\u001b[0m\u001b[0;34m\u001b[0m\u001b[0m\n\u001b[0m\u001b[1;32m    686\u001b[0m \u001b[0;34m\u001b[0m\u001b[0m\n\u001b[1;32m    687\u001b[0m     \u001b[0mparser_f\u001b[0m\u001b[0;34m.\u001b[0m\u001b[0m__name__\u001b[0m \u001b[0;34m=\u001b[0m \u001b[0mname\u001b[0m\u001b[0;34m\u001b[0m\u001b[0;34m\u001b[0m\u001b[0m\n",
            "\u001b[0;32m/usr/local/lib/python3.6/dist-packages/pandas/io/parsers.py\u001b[0m in \u001b[0;36m_read\u001b[0;34m(filepath_or_buffer, kwds)\u001b[0m\n\u001b[1;32m    455\u001b[0m \u001b[0;34m\u001b[0m\u001b[0m\n\u001b[1;32m    456\u001b[0m     \u001b[0;31m# Create the parser.\u001b[0m\u001b[0;34m\u001b[0m\u001b[0;34m\u001b[0m\u001b[0;34m\u001b[0m\u001b[0m\n\u001b[0;32m--> 457\u001b[0;31m     \u001b[0mparser\u001b[0m \u001b[0;34m=\u001b[0m \u001b[0mTextFileReader\u001b[0m\u001b[0;34m(\u001b[0m\u001b[0mfp_or_buf\u001b[0m\u001b[0;34m,\u001b[0m \u001b[0;34m**\u001b[0m\u001b[0mkwds\u001b[0m\u001b[0;34m)\u001b[0m\u001b[0;34m\u001b[0m\u001b[0;34m\u001b[0m\u001b[0m\n\u001b[0m\u001b[1;32m    458\u001b[0m \u001b[0;34m\u001b[0m\u001b[0m\n\u001b[1;32m    459\u001b[0m     \u001b[0;32mif\u001b[0m \u001b[0mchunksize\u001b[0m \u001b[0;32mor\u001b[0m \u001b[0miterator\u001b[0m\u001b[0;34m:\u001b[0m\u001b[0;34m\u001b[0m\u001b[0;34m\u001b[0m\u001b[0m\n",
            "\u001b[0;32m/usr/local/lib/python3.6/dist-packages/pandas/io/parsers.py\u001b[0m in \u001b[0;36m__init__\u001b[0;34m(self, f, engine, **kwds)\u001b[0m\n\u001b[1;32m    893\u001b[0m             \u001b[0mself\u001b[0m\u001b[0;34m.\u001b[0m\u001b[0moptions\u001b[0m\u001b[0;34m[\u001b[0m\u001b[0;34m\"has_index_names\"\u001b[0m\u001b[0;34m]\u001b[0m \u001b[0;34m=\u001b[0m \u001b[0mkwds\u001b[0m\u001b[0;34m[\u001b[0m\u001b[0;34m\"has_index_names\"\u001b[0m\u001b[0;34m]\u001b[0m\u001b[0;34m\u001b[0m\u001b[0;34m\u001b[0m\u001b[0m\n\u001b[1;32m    894\u001b[0m \u001b[0;34m\u001b[0m\u001b[0m\n\u001b[0;32m--> 895\u001b[0;31m         \u001b[0mself\u001b[0m\u001b[0;34m.\u001b[0m\u001b[0m_make_engine\u001b[0m\u001b[0;34m(\u001b[0m\u001b[0mself\u001b[0m\u001b[0;34m.\u001b[0m\u001b[0mengine\u001b[0m\u001b[0;34m)\u001b[0m\u001b[0;34m\u001b[0m\u001b[0;34m\u001b[0m\u001b[0m\n\u001b[0m\u001b[1;32m    896\u001b[0m \u001b[0;34m\u001b[0m\u001b[0m\n\u001b[1;32m    897\u001b[0m     \u001b[0;32mdef\u001b[0m \u001b[0mclose\u001b[0m\u001b[0;34m(\u001b[0m\u001b[0mself\u001b[0m\u001b[0;34m)\u001b[0m\u001b[0;34m:\u001b[0m\u001b[0;34m\u001b[0m\u001b[0;34m\u001b[0m\u001b[0m\n",
            "\u001b[0;32m/usr/local/lib/python3.6/dist-packages/pandas/io/parsers.py\u001b[0m in \u001b[0;36m_make_engine\u001b[0;34m(self, engine)\u001b[0m\n\u001b[1;32m   1133\u001b[0m     \u001b[0;32mdef\u001b[0m \u001b[0m_make_engine\u001b[0m\u001b[0;34m(\u001b[0m\u001b[0mself\u001b[0m\u001b[0;34m,\u001b[0m \u001b[0mengine\u001b[0m\u001b[0;34m=\u001b[0m\u001b[0;34m\"c\"\u001b[0m\u001b[0;34m)\u001b[0m\u001b[0;34m:\u001b[0m\u001b[0;34m\u001b[0m\u001b[0;34m\u001b[0m\u001b[0m\n\u001b[1;32m   1134\u001b[0m         \u001b[0;32mif\u001b[0m \u001b[0mengine\u001b[0m \u001b[0;34m==\u001b[0m \u001b[0;34m\"c\"\u001b[0m\u001b[0;34m:\u001b[0m\u001b[0;34m\u001b[0m\u001b[0;34m\u001b[0m\u001b[0m\n\u001b[0;32m-> 1135\u001b[0;31m             \u001b[0mself\u001b[0m\u001b[0;34m.\u001b[0m\u001b[0m_engine\u001b[0m \u001b[0;34m=\u001b[0m \u001b[0mCParserWrapper\u001b[0m\u001b[0;34m(\u001b[0m\u001b[0mself\u001b[0m\u001b[0;34m.\u001b[0m\u001b[0mf\u001b[0m\u001b[0;34m,\u001b[0m \u001b[0;34m**\u001b[0m\u001b[0mself\u001b[0m\u001b[0;34m.\u001b[0m\u001b[0moptions\u001b[0m\u001b[0;34m)\u001b[0m\u001b[0;34m\u001b[0m\u001b[0;34m\u001b[0m\u001b[0m\n\u001b[0m\u001b[1;32m   1136\u001b[0m         \u001b[0;32melse\u001b[0m\u001b[0;34m:\u001b[0m\u001b[0;34m\u001b[0m\u001b[0;34m\u001b[0m\u001b[0m\n\u001b[1;32m   1137\u001b[0m             \u001b[0;32mif\u001b[0m \u001b[0mengine\u001b[0m \u001b[0;34m==\u001b[0m \u001b[0;34m\"python\"\u001b[0m\u001b[0;34m:\u001b[0m\u001b[0;34m\u001b[0m\u001b[0;34m\u001b[0m\u001b[0m\n",
            "\u001b[0;32m/usr/local/lib/python3.6/dist-packages/pandas/io/parsers.py\u001b[0m in \u001b[0;36m__init__\u001b[0;34m(self, src, **kwds)\u001b[0m\n\u001b[1;32m   1915\u001b[0m         \u001b[0mkwds\u001b[0m\u001b[0;34m[\u001b[0m\u001b[0;34m\"usecols\"\u001b[0m\u001b[0;34m]\u001b[0m \u001b[0;34m=\u001b[0m \u001b[0mself\u001b[0m\u001b[0;34m.\u001b[0m\u001b[0musecols\u001b[0m\u001b[0;34m\u001b[0m\u001b[0;34m\u001b[0m\u001b[0m\n\u001b[1;32m   1916\u001b[0m \u001b[0;34m\u001b[0m\u001b[0m\n\u001b[0;32m-> 1917\u001b[0;31m         \u001b[0mself\u001b[0m\u001b[0;34m.\u001b[0m\u001b[0m_reader\u001b[0m \u001b[0;34m=\u001b[0m \u001b[0mparsers\u001b[0m\u001b[0;34m.\u001b[0m\u001b[0mTextReader\u001b[0m\u001b[0;34m(\u001b[0m\u001b[0msrc\u001b[0m\u001b[0;34m,\u001b[0m \u001b[0;34m**\u001b[0m\u001b[0mkwds\u001b[0m\u001b[0;34m)\u001b[0m\u001b[0;34m\u001b[0m\u001b[0;34m\u001b[0m\u001b[0m\n\u001b[0m\u001b[1;32m   1918\u001b[0m         \u001b[0mself\u001b[0m\u001b[0;34m.\u001b[0m\u001b[0munnamed_cols\u001b[0m \u001b[0;34m=\u001b[0m \u001b[0mself\u001b[0m\u001b[0;34m.\u001b[0m\u001b[0m_reader\u001b[0m\u001b[0;34m.\u001b[0m\u001b[0munnamed_cols\u001b[0m\u001b[0;34m\u001b[0m\u001b[0;34m\u001b[0m\u001b[0m\n\u001b[1;32m   1919\u001b[0m \u001b[0;34m\u001b[0m\u001b[0m\n",
            "\u001b[0;32mpandas/_libs/parsers.pyx\u001b[0m in \u001b[0;36mpandas._libs.parsers.TextReader.__cinit__\u001b[0;34m()\u001b[0m\n",
            "\u001b[0;32mpandas/_libs/parsers.pyx\u001b[0m in \u001b[0;36mpandas._libs.parsers.TextReader._setup_parser_source\u001b[0;34m()\u001b[0m\n",
            "\u001b[0;31mFileNotFoundError\u001b[0m: [Errno 2] File b'/content/drive/My Drive/Final Capstone/train_values.csv' does not exist: b'/content/drive/My Drive/Final Capstone/train_values.csv'"
          ]
        }
      ]
    },
    {
      "cell_type": "code",
      "metadata": {
        "id": "ONhrwqWhHbZL",
        "colab_type": "code",
        "outputId": "8e49ba06-d45a-4b5d-fd7f-9f02bef53fcc",
        "colab": {
          "base_uri": "https://localhost:8080/",
          "height": 241
        }
      },
      "source": [
        "test_values.head(5)"
      ],
      "execution_count": 0,
      "outputs": [
        {
          "output_type": "execute_result",
          "data": {
            "text/html": [
              "<div>\n",
              "<style scoped>\n",
              "    .dataframe tbody tr th:only-of-type {\n",
              "        vertical-align: middle;\n",
              "    }\n",
              "\n",
              "    .dataframe tbody tr th {\n",
              "        vertical-align: top;\n",
              "    }\n",
              "\n",
              "    .dataframe thead th {\n",
              "        text-align: right;\n",
              "    }\n",
              "</style>\n",
              "<table border=\"1\" class=\"dataframe\">\n",
              "  <thead>\n",
              "    <tr style=\"text-align: right;\">\n",
              "      <th></th>\n",
              "      <th>row_id</th>\n",
              "      <th>loan_type</th>\n",
              "      <th>property_type</th>\n",
              "      <th>loan_purpose</th>\n",
              "      <th>occupancy</th>\n",
              "      <th>loan_amount</th>\n",
              "      <th>preapproval</th>\n",
              "      <th>msa_md</th>\n",
              "      <th>state_code</th>\n",
              "      <th>county_code</th>\n",
              "      <th>applicant_ethnicity</th>\n",
              "      <th>applicant_race</th>\n",
              "      <th>applicant_sex</th>\n",
              "      <th>applicant_income</th>\n",
              "      <th>population</th>\n",
              "      <th>minority_population_pct</th>\n",
              "      <th>ffiecmedian_family_income</th>\n",
              "      <th>tract_to_msa_md_income_pct</th>\n",
              "      <th>number_of_owner-occupied_units</th>\n",
              "      <th>number_of_1_to_4_family_units</th>\n",
              "      <th>lender</th>\n",
              "      <th>co_applicant</th>\n",
              "    </tr>\n",
              "  </thead>\n",
              "  <tbody>\n",
              "    <tr>\n",
              "      <th>0</th>\n",
              "      <td>0</td>\n",
              "      <td>1</td>\n",
              "      <td>2</td>\n",
              "      <td>1</td>\n",
              "      <td>1</td>\n",
              "      <td>46.0</td>\n",
              "      <td>3</td>\n",
              "      <td>262</td>\n",
              "      <td>37</td>\n",
              "      <td>83</td>\n",
              "      <td>1</td>\n",
              "      <td>5</td>\n",
              "      <td>2</td>\n",
              "      <td>50.0</td>\n",
              "      <td>10761.0</td>\n",
              "      <td>43.415</td>\n",
              "      <td>61732.0</td>\n",
              "      <td>100.000</td>\n",
              "      <td>2900.0</td>\n",
              "      <td>3603.0</td>\n",
              "      <td>1119</td>\n",
              "      <td>False</td>\n",
              "    </tr>\n",
              "    <tr>\n",
              "      <th>1</th>\n",
              "      <td>1</td>\n",
              "      <td>1</td>\n",
              "      <td>1</td>\n",
              "      <td>3</td>\n",
              "      <td>1</td>\n",
              "      <td>170.0</td>\n",
              "      <td>3</td>\n",
              "      <td>282</td>\n",
              "      <td>11</td>\n",
              "      <td>267</td>\n",
              "      <td>2</td>\n",
              "      <td>5</td>\n",
              "      <td>1</td>\n",
              "      <td>155.0</td>\n",
              "      <td>2285.0</td>\n",
              "      <td>20.115</td>\n",
              "      <td>50373.0</td>\n",
              "      <td>100.000</td>\n",
              "      <td>539.0</td>\n",
              "      <td>873.0</td>\n",
              "      <td>4216</td>\n",
              "      <td>False</td>\n",
              "    </tr>\n",
              "    <tr>\n",
              "      <th>2</th>\n",
              "      <td>2</td>\n",
              "      <td>1</td>\n",
              "      <td>1</td>\n",
              "      <td>1</td>\n",
              "      <td>1</td>\n",
              "      <td>174.0</td>\n",
              "      <td>3</td>\n",
              "      <td>274</td>\n",
              "      <td>12</td>\n",
              "      <td>162</td>\n",
              "      <td>1</td>\n",
              "      <td>5</td>\n",
              "      <td>1</td>\n",
              "      <td>102.0</td>\n",
              "      <td>7765.0</td>\n",
              "      <td>78.621</td>\n",
              "      <td>75175.0</td>\n",
              "      <td>54.165</td>\n",
              "      <td>1559.0</td>\n",
              "      <td>1712.0</td>\n",
              "      <td>2467</td>\n",
              "      <td>False</td>\n",
              "    </tr>\n",
              "    <tr>\n",
              "      <th>3</th>\n",
              "      <td>3</td>\n",
              "      <td>1</td>\n",
              "      <td>1</td>\n",
              "      <td>1</td>\n",
              "      <td>2</td>\n",
              "      <td>116.0</td>\n",
              "      <td>2</td>\n",
              "      <td>254</td>\n",
              "      <td>37</td>\n",
              "      <td>282</td>\n",
              "      <td>2</td>\n",
              "      <td>5</td>\n",
              "      <td>1</td>\n",
              "      <td>51.0</td>\n",
              "      <td>3387.0</td>\n",
              "      <td>96.208</td>\n",
              "      <td>48677.0</td>\n",
              "      <td>74.476</td>\n",
              "      <td>938.0</td>\n",
              "      <td>784.0</td>\n",
              "      <td>2773</td>\n",
              "      <td>True</td>\n",
              "    </tr>\n",
              "    <tr>\n",
              "      <th>4</th>\n",
              "      <td>4</td>\n",
              "      <td>1</td>\n",
              "      <td>1</td>\n",
              "      <td>3</td>\n",
              "      <td>1</td>\n",
              "      <td>108.0</td>\n",
              "      <td>3</td>\n",
              "      <td>194</td>\n",
              "      <td>41</td>\n",
              "      <td>17</td>\n",
              "      <td>2</td>\n",
              "      <td>5</td>\n",
              "      <td>1</td>\n",
              "      <td>88.0</td>\n",
              "      <td>3106.0</td>\n",
              "      <td>6.370</td>\n",
              "      <td>68070.0</td>\n",
              "      <td>100.000</td>\n",
              "      <td>1119.0</td>\n",
              "      <td>1301.0</td>\n",
              "      <td>3110</td>\n",
              "      <td>False</td>\n",
              "    </tr>\n",
              "  </tbody>\n",
              "</table>\n",
              "</div>"
            ],
            "text/plain": [
              "   row_id  loan_type  ...  lender  co_applicant\n",
              "0       0          1  ...    1119         False\n",
              "1       1          1  ...    4216         False\n",
              "2       2          1  ...    2467         False\n",
              "3       3          1  ...    2773          True\n",
              "4       4          1  ...    3110         False\n",
              "\n",
              "[5 rows x 22 columns]"
            ]
          },
          "metadata": {
            "tags": []
          },
          "execution_count": 3
        }
      ]
    },
    {
      "cell_type": "code",
      "metadata": {
        "id": "TdYt9CwQO7VG",
        "colab_type": "code",
        "outputId": "d95ac30b-ac69-47df-a624-a4a3a1b39376",
        "colab": {
          "base_uri": "https://localhost:8080/",
          "height": 425
        }
      },
      "source": [
        "data = pd.merge(train_values, train_labels, on = 'row_id')\n",
        "data = data.astype({'loan_type': 'category', 'property_type':'category', 'loan_purpose':'category', \n",
        "               'occupancy':'category', 'preapproval':'category', 'msa_md':'category', 'state_code':'category',\n",
        "                'county_code':'category', 'applicant_ethnicity':'category', 'applicant_race':'category',\n",
        "               'applicant_sex':'category', 'lender':'category', 'co_applicant':'category'})\n",
        "data.dtypes"
      ],
      "execution_count": 0,
      "outputs": [
        {
          "output_type": "execute_result",
          "data": {
            "text/plain": [
              "row_id                               int64\n",
              "loan_type                         category\n",
              "property_type                     category\n",
              "loan_purpose                      category\n",
              "occupancy                         category\n",
              "loan_amount                        float64\n",
              "preapproval                       category\n",
              "msa_md                            category\n",
              "state_code                        category\n",
              "county_code                       category\n",
              "applicant_ethnicity               category\n",
              "applicant_race                    category\n",
              "applicant_sex                     category\n",
              "applicant_income                   float64\n",
              "population                         float64\n",
              "minority_population_pct            float64\n",
              "ffiecmedian_family_income          float64\n",
              "tract_to_msa_md_income_pct         float64\n",
              "number_of_owner-occupied_units     float64\n",
              "number_of_1_to_4_family_units      float64\n",
              "lender                            category\n",
              "co_applicant                      category\n",
              "rate_spread                        float64\n",
              "dtype: object"
            ]
          },
          "metadata": {
            "tags": []
          },
          "execution_count": 4
        }
      ]
    },
    {
      "cell_type": "code",
      "metadata": {
        "id": "4UhN56OXiJuk",
        "colab_type": "code",
        "outputId": "09c6c660-3852-436d-8bca-cdee555a8053",
        "colab": {
          "base_uri": "https://localhost:8080/",
          "height": 334
        }
      },
      "source": [
        "data.describe()"
      ],
      "execution_count": 0,
      "outputs": [
        {
          "output_type": "execute_result",
          "data": {
            "text/html": [
              "<div>\n",
              "<style scoped>\n",
              "    .dataframe tbody tr th:only-of-type {\n",
              "        vertical-align: middle;\n",
              "    }\n",
              "\n",
              "    .dataframe tbody tr th {\n",
              "        vertical-align: top;\n",
              "    }\n",
              "\n",
              "    .dataframe thead th {\n",
              "        text-align: right;\n",
              "    }\n",
              "</style>\n",
              "<table border=\"1\" class=\"dataframe\">\n",
              "  <thead>\n",
              "    <tr style=\"text-align: right;\">\n",
              "      <th></th>\n",
              "      <th>row_id</th>\n",
              "      <th>loan_amount</th>\n",
              "      <th>applicant_income</th>\n",
              "      <th>population</th>\n",
              "      <th>minority_population_pct</th>\n",
              "      <th>ffiecmedian_family_income</th>\n",
              "      <th>tract_to_msa_md_income_pct</th>\n",
              "      <th>number_of_owner-occupied_units</th>\n",
              "      <th>number_of_1_to_4_family_units</th>\n",
              "      <th>rate_spread</th>\n",
              "    </tr>\n",
              "  </thead>\n",
              "  <tbody>\n",
              "    <tr>\n",
              "      <th>count</th>\n",
              "      <td>200000.000000</td>\n",
              "      <td>200000.000000</td>\n",
              "      <td>189292.000000</td>\n",
              "      <td>198005.000000</td>\n",
              "      <td>198005.000000</td>\n",
              "      <td>198015.000000</td>\n",
              "      <td>197977.000000</td>\n",
              "      <td>197988.000000</td>\n",
              "      <td>197984.000000</td>\n",
              "      <td>200000.000000</td>\n",
              "    </tr>\n",
              "    <tr>\n",
              "      <th>mean</th>\n",
              "      <td>99999.500000</td>\n",
              "      <td>142.574940</td>\n",
              "      <td>73.617902</td>\n",
              "      <td>5391.099099</td>\n",
              "      <td>34.238640</td>\n",
              "      <td>64595.355801</td>\n",
              "      <td>89.283022</td>\n",
              "      <td>1402.872401</td>\n",
              "      <td>1927.336618</td>\n",
              "      <td>1.979110</td>\n",
              "    </tr>\n",
              "    <tr>\n",
              "      <th>std</th>\n",
              "      <td>57735.171256</td>\n",
              "      <td>142.559487</td>\n",
              "      <td>105.696934</td>\n",
              "      <td>2669.028807</td>\n",
              "      <td>27.930882</td>\n",
              "      <td>12724.514485</td>\n",
              "      <td>15.059223</td>\n",
              "      <td>706.880410</td>\n",
              "      <td>886.576586</td>\n",
              "      <td>1.656809</td>\n",
              "    </tr>\n",
              "    <tr>\n",
              "      <th>min</th>\n",
              "      <td>0.000000</td>\n",
              "      <td>1.000000</td>\n",
              "      <td>1.000000</td>\n",
              "      <td>7.000000</td>\n",
              "      <td>0.326000</td>\n",
              "      <td>17860.000000</td>\n",
              "      <td>6.193000</td>\n",
              "      <td>3.000000</td>\n",
              "      <td>6.000000</td>\n",
              "      <td>1.000000</td>\n",
              "    </tr>\n",
              "    <tr>\n",
              "      <th>25%</th>\n",
              "      <td>49999.750000</td>\n",
              "      <td>67.000000</td>\n",
              "      <td>39.000000</td>\n",
              "      <td>3717.000000</td>\n",
              "      <td>10.928000</td>\n",
              "      <td>56654.000000</td>\n",
              "      <td>81.648000</td>\n",
              "      <td>932.000000</td>\n",
              "      <td>1344.000000</td>\n",
              "      <td>1.000000</td>\n",
              "    </tr>\n",
              "    <tr>\n",
              "      <th>50%</th>\n",
              "      <td>99999.500000</td>\n",
              "      <td>116.000000</td>\n",
              "      <td>56.000000</td>\n",
              "      <td>4959.000000</td>\n",
              "      <td>25.996000</td>\n",
              "      <td>63485.000000</td>\n",
              "      <td>98.959000</td>\n",
              "      <td>1304.000000</td>\n",
              "      <td>1799.000000</td>\n",
              "      <td>1.000000</td>\n",
              "    </tr>\n",
              "    <tr>\n",
              "      <th>75%</th>\n",
              "      <td>149999.250000</td>\n",
              "      <td>179.000000</td>\n",
              "      <td>83.000000</td>\n",
              "      <td>6470.000000</td>\n",
              "      <td>52.000000</td>\n",
              "      <td>71238.000000</td>\n",
              "      <td>100.000000</td>\n",
              "      <td>1742.000000</td>\n",
              "      <td>2353.000000</td>\n",
              "      <td>2.000000</td>\n",
              "    </tr>\n",
              "    <tr>\n",
              "      <th>max</th>\n",
              "      <td>199999.000000</td>\n",
              "      <td>11104.000000</td>\n",
              "      <td>10042.000000</td>\n",
              "      <td>34126.000000</td>\n",
              "      <td>100.000000</td>\n",
              "      <td>125095.000000</td>\n",
              "      <td>100.000000</td>\n",
              "      <td>8747.000000</td>\n",
              "      <td>13615.000000</td>\n",
              "      <td>99.000000</td>\n",
              "    </tr>\n",
              "  </tbody>\n",
              "</table>\n",
              "</div>"
            ],
            "text/plain": [
              "              row_id  ...    rate_spread\n",
              "count  200000.000000  ...  200000.000000\n",
              "mean    99999.500000  ...       1.979110\n",
              "std     57735.171256  ...       1.656809\n",
              "min         0.000000  ...       1.000000\n",
              "25%     49999.750000  ...       1.000000\n",
              "50%     99999.500000  ...       1.000000\n",
              "75%    149999.250000  ...       2.000000\n",
              "max    199999.000000  ...      99.000000\n",
              "\n",
              "[8 rows x 10 columns]"
            ]
          },
          "metadata": {
            "tags": []
          },
          "execution_count": 5
        }
      ]
    },
    {
      "cell_type": "code",
      "metadata": {
        "id": "3zeJOi4DkkA7",
        "colab_type": "code",
        "outputId": "a52d4328-2d9d-41f2-c04c-3b7d6bdbd70d",
        "colab": {
          "base_uri": "https://localhost:8080/",
          "height": 554
        }
      },
      "source": [
        "f = plt.figure(figsize = (8,6))\n",
        "sns.heatmap(data.drop(['row_id'], axis = 1).corr(), annot = True)"
      ],
      "execution_count": 0,
      "outputs": [
        {
          "output_type": "execute_result",
          "data": {
            "text/plain": [
              "<matplotlib.axes._subplots.AxesSubplot at 0x7f5144960048>"
            ]
          },
          "metadata": {
            "tags": []
          },
          "execution_count": 6
        },
        {
          "output_type": "display_data",
          "data": {
            "image/png": "[encoded data removed]",
            "text/plain": [
              "<Figure size 576x432 with 2 Axes>"
            ]
          },
          "metadata": {
            "tags": []
          }
        }
      ]
    },
    {
      "cell_type": "code",
      "metadata": {
        "id": "_-Xo4bwmO7VJ",
        "colab_type": "code",
        "outputId": "9ea96a3a-05c2-4a42-b7a1-dade81f284c8",
        "colab": {
          "base_uri": "https://localhost:8080/",
          "height": 799
        }
      },
      "source": [
        "# Check null value\n",
        "for c in data.columns:\n",
        "       print('Any Missing Values in ' + str(c) + ':\\n' + str(data[c].isna().any()))"
      ],
      "execution_count": 0,
      "outputs": [
        {
          "output_type": "stream",
          "text": [
            "Any Missing Values in row_id:\n",
            "False\n",
            "Any Missing Values in loan_type:\n",
            "False\n",
            "Any Missing Values in property_type:\n",
            "False\n",
            "Any Missing Values in loan_purpose:\n",
            "False\n",
            "Any Missing Values in occupancy:\n",
            "False\n",
            "Any Missing Values in loan_amount:\n",
            "False\n",
            "Any Missing Values in preapproval:\n",
            "False\n",
            "Any Missing Values in msa_md:\n",
            "False\n",
            "Any Missing Values in state_code:\n",
            "False\n",
            "Any Missing Values in county_code:\n",
            "False\n",
            "Any Missing Values in applicant_ethnicity:\n",
            "False\n",
            "Any Missing Values in applicant_race:\n",
            "False\n",
            "Any Missing Values in applicant_sex:\n",
            "False\n",
            "Any Missing Values in applicant_income:\n",
            "True\n",
            "Any Missing Values in population:\n",
            "True\n",
            "Any Missing Values in minority_population_pct:\n",
            "True\n",
            "Any Missing Values in ffiecmedian_family_income:\n",
            "True\n",
            "Any Missing Values in tract_to_msa_md_income_pct:\n",
            "True\n",
            "Any Missing Values in number_of_owner-occupied_units:\n",
            "True\n",
            "Any Missing Values in number_of_1_to_4_family_units:\n",
            "True\n",
            "Any Missing Values in lender:\n",
            "False\n",
            "Any Missing Values in co_applicant:\n",
            "False\n",
            "Any Missing Values in rate_spread:\n",
            "False\n"
          ],
          "name": "stdout"
        }
      ]
    },
    {
      "cell_type": "code",
      "metadata": {
        "id": "4KyOWrUlVkZb",
        "colab_type": "code",
        "outputId": "d7eeb33c-8532-4493-d779-d0d89b5eca3b",
        "colab": {
          "base_uri": "https://localhost:8080/",
          "height": 408
        }
      },
      "source": [
        "for c in data.columns:\n",
        "       print('Any Values = -1 in ' + str(c) + ': ' + str((data[c] == -1).any()))"
      ],
      "execution_count": 0,
      "outputs": [
        {
          "output_type": "stream",
          "text": [
            "Any Values = -1 in row_id: False\n",
            "Any Values = -1 in loan_type: False\n",
            "Any Values = -1 in property_type: False\n",
            "Any Values = -1 in loan_purpose: False\n",
            "Any Values = -1 in occupancy: False\n",
            "Any Values = -1 in loan_amount: False\n",
            "Any Values = -1 in preapproval: False\n",
            "Any Values = -1 in msa_md: False\n",
            "Any Values = -1 in state_code: True\n",
            "Any Values = -1 in county_code: False\n",
            "Any Values = -1 in applicant_ethnicity: False\n",
            "Any Values = -1 in applicant_race: False\n",
            "Any Values = -1 in applicant_sex: False\n",
            "Any Values = -1 in applicant_income: False\n",
            "Any Values = -1 in population: False\n",
            "Any Values = -1 in minority_population_pct: False\n",
            "Any Values = -1 in ffiecmedian_family_income: False\n",
            "Any Values = -1 in tract_to_msa_md_income_pct: False\n",
            "Any Values = -1 in number_of_owner-occupied_units: False\n",
            "Any Values = -1 in number_of_1_to_4_family_units: False\n",
            "Any Values = -1 in lender: False\n",
            "Any Values = -1 in co_applicant: False\n",
            "Any Values = -1 in rate_spread: False\n"
          ],
          "name": "stdout"
        }
      ]
    },
    {
      "cell_type": "code",
      "metadata": {
        "id": "5ClGhFiUO7VL",
        "colab_type": "code",
        "outputId": "a508076c-1d8f-490a-86f3-91711061e43c",
        "colab": {
          "base_uri": "https://localhost:8080/",
          "height": 136
        }
      },
      "source": [
        "cols = ['applicant_income', 'population', 'minority_population_pct', \n",
        "        'ffiecmedian_family_income', 'tract_to_msa_md_income_pct', \n",
        "        'number_of_owner-occupied_units', 'number_of_1_to_4_family_units']\n",
        "for c in cols: \n",
        "      print(str(c) + ':' + str(data[c].isna().sum()))"
      ],
      "execution_count": 0,
      "outputs": [
        {
          "output_type": "stream",
          "text": [
            "applicant_income:10708\n",
            "population:1995\n",
            "minority_population_pct:1995\n",
            "ffiecmedian_family_income:1985\n",
            "tract_to_msa_md_income_pct:2023\n",
            "number_of_owner-occupied_units:2012\n",
            "number_of_1_to_4_family_units:2016\n"
          ],
          "name": "stdout"
        }
      ]
    },
    {
      "cell_type": "code",
      "metadata": {
        "id": "peeML3ftU8lU",
        "colab_type": "code",
        "outputId": "1249ae97-8608-46f6-e8d2-156392d494da",
        "colab": {
          "base_uri": "https://localhost:8080/",
          "height": 391
        }
      },
      "source": [
        "for c in test_values: \n",
        "      print(str(c) + ':' + str(test_values[c].isna().sum()))"
      ],
      "execution_count": 0,
      "outputs": [
        {
          "output_type": "stream",
          "text": [
            "row_id:0\n",
            "loan_type:0\n",
            "property_type:0\n",
            "loan_purpose:0\n",
            "occupancy:0\n",
            "loan_amount:0\n",
            "preapproval:0\n",
            "msa_md:0\n",
            "state_code:0\n",
            "county_code:0\n",
            "applicant_ethnicity:0\n",
            "applicant_race:0\n",
            "applicant_sex:0\n",
            "applicant_income:10371\n",
            "population:1918\n",
            "minority_population_pct:1920\n",
            "ffiecmedian_family_income:1905\n",
            "tract_to_msa_md_income_pct:1946\n",
            "number_of_owner-occupied_units:1933\n",
            "number_of_1_to_4_family_units:1933\n",
            "lender:0\n",
            "co_applicant:0\n"
          ],
          "name": "stdout"
        }
      ]
    },
    {
      "cell_type": "code",
      "metadata": {
        "colab_type": "code",
        "id": "0uxc7WZbTCm7",
        "colab": {}
      },
      "source": [
        "for c in cols:\n",
        "    temp = data[data[c].notna()]\n",
        "    data[c] = data[c].fillna(temp[c].mean())"
      ],
      "execution_count": 0,
      "outputs": []
    },
    {
      "cell_type": "code",
      "metadata": {
        "scrolled": true,
        "id": "tSXwJuekO7VP",
        "colab_type": "code",
        "outputId": "7b19e6c8-b278-4323-db20-1c5769b6f8cc",
        "colab": {
          "base_uri": "https://localhost:8080/",
          "height": 119
        }
      },
      "source": [
        "df = data.drop(['row_id','lender','msa_md',\n",
        "                'state_code','applicant_ethnicity', \n",
        "                'preapproval', 'applicant_race', 'occupancy'\n",
        "                ], axis = 1)\n",
        "df.columns"
      ],
      "execution_count": 0,
      "outputs": [
        {
          "output_type": "execute_result",
          "data": {
            "text/plain": [
              "Index(['loan_type', 'property_type', 'loan_purpose', 'loan_amount',\n",
              "       'county_code', 'applicant_sex', 'applicant_income', 'population',\n",
              "       'minority_population_pct', 'ffiecmedian_family_income',\n",
              "       'tract_to_msa_md_income_pct', 'number_of_owner-occupied_units',\n",
              "       'number_of_1_to_4_family_units', 'co_applicant', 'rate_spread'],\n",
              "      dtype='object')"
            ]
          },
          "metadata": {
            "tags": []
          },
          "execution_count": 12
        }
      ]
    },
    {
      "cell_type": "code",
      "metadata": {
        "id": "R8ygLlHpAnpD",
        "colab_type": "code",
        "outputId": "26312c51-0dd0-4515-a827-584f34db7e3c",
        "colab": {
          "base_uri": "https://localhost:8080/",
          "height": 554
        }
      },
      "source": [
        "f = plt.figure(figsize = (8,6))\n",
        "sad1 = data.loc[:,{'loan_amount','ffiecmedian_family_income','tract_to_msa_md_income_pct', \n",
        "                   'number_of_owner-occupied_units','applicant_income', 'rate_spread', \n",
        "                   'number_of_1_to_4_family_units','minority_population_pct'}]\n",
        "sns.heatmap(sad1.corr(), annot =  True)"
      ],
      "execution_count": 0,
      "outputs": [
        {
          "output_type": "execute_result",
          "data": {
            "text/plain": [
              "<matplotlib.axes._subplots.AxesSubplot at 0x7f51408c9240>"
            ]
          },
          "metadata": {
            "tags": []
          },
          "execution_count": 13
        },
        {
          "output_type": "display_data",
          "data": {
            "image/png": "[encoded data removed]",
            "text/plain": [
              "<Figure size 576x432 with 2 Axes>"
            ]
          },
          "metadata": {
            "tags": []
          }
        }
      ]
    },
    {
      "cell_type": "code",
      "metadata": {
        "scrolled": true,
        "id": "pBZ4i3oPO7VR",
        "colab_type": "code",
        "outputId": "99853f09-caae-4949-cd2c-cd6c5b6b82cf",
        "colab": {
          "base_uri": "https://localhost:8080/",
          "height": 253
        }
      },
      "source": [
        "cat_feature = df.select_dtypes(exclude=['float64'])\n",
        "cat_feature_one_hot = pd.get_dummies(cat_feature)\n",
        "cat_feature_one_hot.head()"
      ],
      "execution_count": 0,
      "outputs": [
        {
          "output_type": "execute_result",
          "data": {
            "text/html": [
              "<div>\n",
              "<style scoped>\n",
              "    .dataframe tbody tr th:only-of-type {\n",
              "        vertical-align: middle;\n",
              "    }\n",
              "\n",
              "    .dataframe tbody tr th {\n",
              "        vertical-align: top;\n",
              "    }\n",
              "\n",
              "    .dataframe thead th {\n",
              "        text-align: right;\n",
              "    }\n",
              "</style>\n",
              "<table border=\"1\" class=\"dataframe\">\n",
              "  <thead>\n",
              "    <tr style=\"text-align: right;\">\n",
              "      <th></th>\n",
              "      <th>loan_type_1</th>\n",
              "      <th>loan_type_2</th>\n",
              "      <th>loan_type_3</th>\n",
              "      <th>loan_type_4</th>\n",
              "      <th>property_type_1</th>\n",
              "      <th>property_type_2</th>\n",
              "      <th>property_type_3</th>\n",
              "      <th>loan_purpose_1</th>\n",
              "      <th>loan_purpose_2</th>\n",
              "      <th>loan_purpose_3</th>\n",
              "      <th>county_code_0</th>\n",
              "      <th>county_code_1</th>\n",
              "      <th>county_code_2</th>\n",
              "      <th>county_code_3</th>\n",
              "      <th>county_code_4</th>\n",
              "      <th>county_code_5</th>\n",
              "      <th>county_code_6</th>\n",
              "      <th>county_code_7</th>\n",
              "      <th>county_code_8</th>\n",
              "      <th>county_code_9</th>\n",
              "      <th>county_code_10</th>\n",
              "      <th>county_code_11</th>\n",
              "      <th>county_code_12</th>\n",
              "      <th>county_code_13</th>\n",
              "      <th>county_code_14</th>\n",
              "      <th>county_code_15</th>\n",
              "      <th>county_code_16</th>\n",
              "      <th>county_code_17</th>\n",
              "      <th>county_code_18</th>\n",
              "      <th>county_code_19</th>\n",
              "      <th>county_code_20</th>\n",
              "      <th>county_code_21</th>\n",
              "      <th>county_code_22</th>\n",
              "      <th>county_code_23</th>\n",
              "      <th>county_code_24</th>\n",
              "      <th>county_code_25</th>\n",
              "      <th>county_code_26</th>\n",
              "      <th>county_code_27</th>\n",
              "      <th>county_code_28</th>\n",
              "      <th>county_code_29</th>\n",
              "      <th>...</th>\n",
              "      <th>county_code_280</th>\n",
              "      <th>county_code_281</th>\n",
              "      <th>county_code_282</th>\n",
              "      <th>county_code_283</th>\n",
              "      <th>county_code_284</th>\n",
              "      <th>county_code_285</th>\n",
              "      <th>county_code_286</th>\n",
              "      <th>county_code_287</th>\n",
              "      <th>county_code_288</th>\n",
              "      <th>county_code_290</th>\n",
              "      <th>county_code_291</th>\n",
              "      <th>county_code_292</th>\n",
              "      <th>county_code_293</th>\n",
              "      <th>county_code_294</th>\n",
              "      <th>county_code_295</th>\n",
              "      <th>county_code_297</th>\n",
              "      <th>county_code_299</th>\n",
              "      <th>county_code_300</th>\n",
              "      <th>county_code_301</th>\n",
              "      <th>county_code_302</th>\n",
              "      <th>county_code_303</th>\n",
              "      <th>county_code_304</th>\n",
              "      <th>county_code_305</th>\n",
              "      <th>county_code_306</th>\n",
              "      <th>county_code_307</th>\n",
              "      <th>county_code_308</th>\n",
              "      <th>county_code_309</th>\n",
              "      <th>county_code_310</th>\n",
              "      <th>county_code_311</th>\n",
              "      <th>county_code_312</th>\n",
              "      <th>county_code_313</th>\n",
              "      <th>county_code_314</th>\n",
              "      <th>county_code_315</th>\n",
              "      <th>county_code_316</th>\n",
              "      <th>applicant_sex_1</th>\n",
              "      <th>applicant_sex_2</th>\n",
              "      <th>applicant_sex_3</th>\n",
              "      <th>applicant_sex_4</th>\n",
              "      <th>co_applicant_False</th>\n",
              "      <th>co_applicant_True</th>\n",
              "    </tr>\n",
              "  </thead>\n",
              "  <tbody>\n",
              "    <tr>\n",
              "      <th>0</th>\n",
              "      <td>0</td>\n",
              "      <td>1</td>\n",
              "      <td>0</td>\n",
              "      <td>0</td>\n",
              "      <td>1</td>\n",
              "      <td>0</td>\n",
              "      <td>0</td>\n",
              "      <td>1</td>\n",
              "      <td>0</td>\n",
              "      <td>0</td>\n",
              "      <td>0</td>\n",
              "      <td>0</td>\n",
              "      <td>0</td>\n",
              "      <td>0</td>\n",
              "      <td>0</td>\n",
              "      <td>0</td>\n",
              "      <td>0</td>\n",
              "      <td>0</td>\n",
              "      <td>0</td>\n",
              "      <td>0</td>\n",
              "      <td>0</td>\n",
              "      <td>0</td>\n",
              "      <td>0</td>\n",
              "      <td>0</td>\n",
              "      <td>0</td>\n",
              "      <td>0</td>\n",
              "      <td>0</td>\n",
              "      <td>0</td>\n",
              "      <td>0</td>\n",
              "      <td>0</td>\n",
              "      <td>0</td>\n",
              "      <td>0</td>\n",
              "      <td>0</td>\n",
              "      <td>0</td>\n",
              "      <td>0</td>\n",
              "      <td>0</td>\n",
              "      <td>0</td>\n",
              "      <td>0</td>\n",
              "      <td>0</td>\n",
              "      <td>0</td>\n",
              "      <td>...</td>\n",
              "      <td>0</td>\n",
              "      <td>0</td>\n",
              "      <td>0</td>\n",
              "      <td>0</td>\n",
              "      <td>0</td>\n",
              "      <td>0</td>\n",
              "      <td>0</td>\n",
              "      <td>0</td>\n",
              "      <td>0</td>\n",
              "      <td>0</td>\n",
              "      <td>0</td>\n",
              "      <td>0</td>\n",
              "      <td>0</td>\n",
              "      <td>0</td>\n",
              "      <td>0</td>\n",
              "      <td>0</td>\n",
              "      <td>0</td>\n",
              "      <td>0</td>\n",
              "      <td>0</td>\n",
              "      <td>0</td>\n",
              "      <td>0</td>\n",
              "      <td>0</td>\n",
              "      <td>0</td>\n",
              "      <td>0</td>\n",
              "      <td>0</td>\n",
              "      <td>0</td>\n",
              "      <td>0</td>\n",
              "      <td>0</td>\n",
              "      <td>0</td>\n",
              "      <td>0</td>\n",
              "      <td>0</td>\n",
              "      <td>0</td>\n",
              "      <td>0</td>\n",
              "      <td>0</td>\n",
              "      <td>1</td>\n",
              "      <td>0</td>\n",
              "      <td>0</td>\n",
              "      <td>0</td>\n",
              "      <td>0</td>\n",
              "      <td>1</td>\n",
              "    </tr>\n",
              "    <tr>\n",
              "      <th>1</th>\n",
              "      <td>0</td>\n",
              "      <td>1</td>\n",
              "      <td>0</td>\n",
              "      <td>0</td>\n",
              "      <td>0</td>\n",
              "      <td>1</td>\n",
              "      <td>0</td>\n",
              "      <td>1</td>\n",
              "      <td>0</td>\n",
              "      <td>0</td>\n",
              "      <td>0</td>\n",
              "      <td>0</td>\n",
              "      <td>0</td>\n",
              "      <td>0</td>\n",
              "      <td>0</td>\n",
              "      <td>0</td>\n",
              "      <td>0</td>\n",
              "      <td>0</td>\n",
              "      <td>0</td>\n",
              "      <td>0</td>\n",
              "      <td>0</td>\n",
              "      <td>0</td>\n",
              "      <td>0</td>\n",
              "      <td>0</td>\n",
              "      <td>0</td>\n",
              "      <td>0</td>\n",
              "      <td>0</td>\n",
              "      <td>0</td>\n",
              "      <td>0</td>\n",
              "      <td>0</td>\n",
              "      <td>0</td>\n",
              "      <td>0</td>\n",
              "      <td>0</td>\n",
              "      <td>0</td>\n",
              "      <td>0</td>\n",
              "      <td>0</td>\n",
              "      <td>0</td>\n",
              "      <td>0</td>\n",
              "      <td>0</td>\n",
              "      <td>0</td>\n",
              "      <td>...</td>\n",
              "      <td>0</td>\n",
              "      <td>0</td>\n",
              "      <td>0</td>\n",
              "      <td>0</td>\n",
              "      <td>0</td>\n",
              "      <td>0</td>\n",
              "      <td>0</td>\n",
              "      <td>0</td>\n",
              "      <td>0</td>\n",
              "      <td>0</td>\n",
              "      <td>0</td>\n",
              "      <td>0</td>\n",
              "      <td>0</td>\n",
              "      <td>0</td>\n",
              "      <td>0</td>\n",
              "      <td>0</td>\n",
              "      <td>0</td>\n",
              "      <td>0</td>\n",
              "      <td>0</td>\n",
              "      <td>0</td>\n",
              "      <td>0</td>\n",
              "      <td>0</td>\n",
              "      <td>0</td>\n",
              "      <td>0</td>\n",
              "      <td>0</td>\n",
              "      <td>0</td>\n",
              "      <td>0</td>\n",
              "      <td>0</td>\n",
              "      <td>1</td>\n",
              "      <td>0</td>\n",
              "      <td>0</td>\n",
              "      <td>0</td>\n",
              "      <td>0</td>\n",
              "      <td>0</td>\n",
              "      <td>1</td>\n",
              "      <td>0</td>\n",
              "      <td>0</td>\n",
              "      <td>0</td>\n",
              "      <td>1</td>\n",
              "      <td>0</td>\n",
              "    </tr>\n",
              "    <tr>\n",
              "      <th>2</th>\n",
              "      <td>1</td>\n",
              "      <td>0</td>\n",
              "      <td>0</td>\n",
              "      <td>0</td>\n",
              "      <td>0</td>\n",
              "      <td>1</td>\n",
              "      <td>0</td>\n",
              "      <td>1</td>\n",
              "      <td>0</td>\n",
              "      <td>0</td>\n",
              "      <td>0</td>\n",
              "      <td>0</td>\n",
              "      <td>0</td>\n",
              "      <td>0</td>\n",
              "      <td>0</td>\n",
              "      <td>0</td>\n",
              "      <td>0</td>\n",
              "      <td>0</td>\n",
              "      <td>0</td>\n",
              "      <td>0</td>\n",
              "      <td>0</td>\n",
              "      <td>0</td>\n",
              "      <td>0</td>\n",
              "      <td>0</td>\n",
              "      <td>0</td>\n",
              "      <td>0</td>\n",
              "      <td>0</td>\n",
              "      <td>0</td>\n",
              "      <td>0</td>\n",
              "      <td>0</td>\n",
              "      <td>0</td>\n",
              "      <td>0</td>\n",
              "      <td>0</td>\n",
              "      <td>0</td>\n",
              "      <td>0</td>\n",
              "      <td>0</td>\n",
              "      <td>0</td>\n",
              "      <td>0</td>\n",
              "      <td>0</td>\n",
              "      <td>0</td>\n",
              "      <td>...</td>\n",
              "      <td>0</td>\n",
              "      <td>0</td>\n",
              "      <td>0</td>\n",
              "      <td>0</td>\n",
              "      <td>0</td>\n",
              "      <td>0</td>\n",
              "      <td>0</td>\n",
              "      <td>0</td>\n",
              "      <td>0</td>\n",
              "      <td>0</td>\n",
              "      <td>0</td>\n",
              "      <td>0</td>\n",
              "      <td>0</td>\n",
              "      <td>0</td>\n",
              "      <td>0</td>\n",
              "      <td>0</td>\n",
              "      <td>0</td>\n",
              "      <td>0</td>\n",
              "      <td>0</td>\n",
              "      <td>0</td>\n",
              "      <td>0</td>\n",
              "      <td>0</td>\n",
              "      <td>0</td>\n",
              "      <td>0</td>\n",
              "      <td>0</td>\n",
              "      <td>0</td>\n",
              "      <td>0</td>\n",
              "      <td>0</td>\n",
              "      <td>0</td>\n",
              "      <td>0</td>\n",
              "      <td>0</td>\n",
              "      <td>0</td>\n",
              "      <td>0</td>\n",
              "      <td>0</td>\n",
              "      <td>1</td>\n",
              "      <td>0</td>\n",
              "      <td>0</td>\n",
              "      <td>0</td>\n",
              "      <td>1</td>\n",
              "      <td>0</td>\n",
              "    </tr>\n",
              "    <tr>\n",
              "      <th>3</th>\n",
              "      <td>1</td>\n",
              "      <td>0</td>\n",
              "      <td>0</td>\n",
              "      <td>0</td>\n",
              "      <td>0</td>\n",
              "      <td>1</td>\n",
              "      <td>0</td>\n",
              "      <td>1</td>\n",
              "      <td>0</td>\n",
              "      <td>0</td>\n",
              "      <td>0</td>\n",
              "      <td>0</td>\n",
              "      <td>0</td>\n",
              "      <td>0</td>\n",
              "      <td>0</td>\n",
              "      <td>0</td>\n",
              "      <td>0</td>\n",
              "      <td>0</td>\n",
              "      <td>0</td>\n",
              "      <td>0</td>\n",
              "      <td>0</td>\n",
              "      <td>0</td>\n",
              "      <td>0</td>\n",
              "      <td>0</td>\n",
              "      <td>0</td>\n",
              "      <td>0</td>\n",
              "      <td>0</td>\n",
              "      <td>0</td>\n",
              "      <td>0</td>\n",
              "      <td>0</td>\n",
              "      <td>0</td>\n",
              "      <td>0</td>\n",
              "      <td>0</td>\n",
              "      <td>0</td>\n",
              "      <td>0</td>\n",
              "      <td>0</td>\n",
              "      <td>0</td>\n",
              "      <td>0</td>\n",
              "      <td>0</td>\n",
              "      <td>0</td>\n",
              "      <td>...</td>\n",
              "      <td>0</td>\n",
              "      <td>0</td>\n",
              "      <td>0</td>\n",
              "      <td>0</td>\n",
              "      <td>0</td>\n",
              "      <td>0</td>\n",
              "      <td>0</td>\n",
              "      <td>0</td>\n",
              "      <td>0</td>\n",
              "      <td>0</td>\n",
              "      <td>0</td>\n",
              "      <td>0</td>\n",
              "      <td>0</td>\n",
              "      <td>0</td>\n",
              "      <td>0</td>\n",
              "      <td>0</td>\n",
              "      <td>0</td>\n",
              "      <td>0</td>\n",
              "      <td>0</td>\n",
              "      <td>0</td>\n",
              "      <td>0</td>\n",
              "      <td>0</td>\n",
              "      <td>0</td>\n",
              "      <td>0</td>\n",
              "      <td>0</td>\n",
              "      <td>0</td>\n",
              "      <td>0</td>\n",
              "      <td>0</td>\n",
              "      <td>0</td>\n",
              "      <td>0</td>\n",
              "      <td>0</td>\n",
              "      <td>0</td>\n",
              "      <td>0</td>\n",
              "      <td>0</td>\n",
              "      <td>1</td>\n",
              "      <td>0</td>\n",
              "      <td>0</td>\n",
              "      <td>0</td>\n",
              "      <td>1</td>\n",
              "      <td>0</td>\n",
              "    </tr>\n",
              "    <tr>\n",
              "      <th>4</th>\n",
              "      <td>0</td>\n",
              "      <td>1</td>\n",
              "      <td>0</td>\n",
              "      <td>0</td>\n",
              "      <td>1</td>\n",
              "      <td>0</td>\n",
              "      <td>0</td>\n",
              "      <td>0</td>\n",
              "      <td>1</td>\n",
              "      <td>0</td>\n",
              "      <td>0</td>\n",
              "      <td>0</td>\n",
              "      <td>0</td>\n",
              "      <td>0</td>\n",
              "      <td>0</td>\n",
              "      <td>0</td>\n",
              "      <td>0</td>\n",
              "      <td>0</td>\n",
              "      <td>0</td>\n",
              "      <td>0</td>\n",
              "      <td>0</td>\n",
              "      <td>0</td>\n",
              "      <td>0</td>\n",
              "      <td>0</td>\n",
              "      <td>0</td>\n",
              "      <td>0</td>\n",
              "      <td>0</td>\n",
              "      <td>0</td>\n",
              "      <td>0</td>\n",
              "      <td>0</td>\n",
              "      <td>0</td>\n",
              "      <td>0</td>\n",
              "      <td>0</td>\n",
              "      <td>0</td>\n",
              "      <td>0</td>\n",
              "      <td>0</td>\n",
              "      <td>0</td>\n",
              "      <td>0</td>\n",
              "      <td>0</td>\n",
              "      <td>0</td>\n",
              "      <td>...</td>\n",
              "      <td>0</td>\n",
              "      <td>0</td>\n",
              "      <td>0</td>\n",
              "      <td>0</td>\n",
              "      <td>0</td>\n",
              "      <td>0</td>\n",
              "      <td>0</td>\n",
              "      <td>0</td>\n",
              "      <td>0</td>\n",
              "      <td>0</td>\n",
              "      <td>0</td>\n",
              "      <td>0</td>\n",
              "      <td>0</td>\n",
              "      <td>0</td>\n",
              "      <td>0</td>\n",
              "      <td>0</td>\n",
              "      <td>0</td>\n",
              "      <td>0</td>\n",
              "      <td>0</td>\n",
              "      <td>0</td>\n",
              "      <td>0</td>\n",
              "      <td>0</td>\n",
              "      <td>0</td>\n",
              "      <td>0</td>\n",
              "      <td>0</td>\n",
              "      <td>0</td>\n",
              "      <td>0</td>\n",
              "      <td>0</td>\n",
              "      <td>0</td>\n",
              "      <td>0</td>\n",
              "      <td>0</td>\n",
              "      <td>0</td>\n",
              "      <td>0</td>\n",
              "      <td>0</td>\n",
              "      <td>0</td>\n",
              "      <td>1</td>\n",
              "      <td>0</td>\n",
              "      <td>0</td>\n",
              "      <td>1</td>\n",
              "      <td>0</td>\n",
              "    </tr>\n",
              "  </tbody>\n",
              "</table>\n",
              "<p>5 rows × 322 columns</p>\n",
              "</div>"
            ],
            "text/plain": [
              "   loan_type_1  loan_type_2  ...  co_applicant_False  co_applicant_True\n",
              "0            0            1  ...                   0                  1\n",
              "1            0            1  ...                   1                  0\n",
              "2            1            0  ...                   1                  0\n",
              "3            1            0  ...                   1                  0\n",
              "4            0            1  ...                   1                  0\n",
              "\n",
              "[5 rows x 322 columns]"
            ]
          },
          "metadata": {
            "tags": []
          },
          "execution_count": 14
        }
      ]
    },
    {
      "cell_type": "code",
      "metadata": {
        "id": "9_gX9kikO7VT",
        "colab_type": "code",
        "outputId": "f0858d8d-36d4-41b6-9241-b2e825f095ba",
        "colab": {
          "base_uri": "https://localhost:8080/",
          "height": 34
        }
      },
      "source": [
        "type(cat_feature_one_hot)"
      ],
      "execution_count": 0,
      "outputs": [
        {
          "output_type": "execute_result",
          "data": {
            "text/plain": [
              "pandas.core.frame.DataFrame"
            ]
          },
          "metadata": {
            "tags": []
          },
          "execution_count": 15
        }
      ]
    },
    {
      "cell_type": "code",
      "metadata": {
        "id": "c36ZWd9wO7VV",
        "colab_type": "code",
        "colab": {}
      },
      "source": [
        "num_feature =  df.select_dtypes(include=['float64'])\n",
        "Y = num_feature.rate_spread\n",
        "num_feature = num_feature.drop(['rate_spread'], axis = 1)"
      ],
      "execution_count": 0,
      "outputs": []
    },
    {
      "cell_type": "code",
      "metadata": {
        "id": "_M60MZWLO7VX",
        "colab_type": "code",
        "outputId": "fd4e7df9-64db-43ad-ac34-7a3ff17d9f08",
        "colab": {
          "base_uri": "https://localhost:8080/",
          "height": 241
        }
      },
      "source": [
        "num_feature.head(5)"
      ],
      "execution_count": 0,
      "outputs": [
        {
          "output_type": "execute_result",
          "data": {
            "text/html": [
              "<div>\n",
              "<style scoped>\n",
              "    .dataframe tbody tr th:only-of-type {\n",
              "        vertical-align: middle;\n",
              "    }\n",
              "\n",
              "    .dataframe tbody tr th {\n",
              "        vertical-align: top;\n",
              "    }\n",
              "\n",
              "    .dataframe thead th {\n",
              "        text-align: right;\n",
              "    }\n",
              "</style>\n",
              "<table border=\"1\" class=\"dataframe\">\n",
              "  <thead>\n",
              "    <tr style=\"text-align: right;\">\n",
              "      <th></th>\n",
              "      <th>loan_amount</th>\n",
              "      <th>applicant_income</th>\n",
              "      <th>population</th>\n",
              "      <th>minority_population_pct</th>\n",
              "      <th>ffiecmedian_family_income</th>\n",
              "      <th>tract_to_msa_md_income_pct</th>\n",
              "      <th>number_of_owner-occupied_units</th>\n",
              "      <th>number_of_1_to_4_family_units</th>\n",
              "    </tr>\n",
              "  </thead>\n",
              "  <tbody>\n",
              "    <tr>\n",
              "      <th>0</th>\n",
              "      <td>139.0</td>\n",
              "      <td>77.0</td>\n",
              "      <td>5949.0</td>\n",
              "      <td>11.642</td>\n",
              "      <td>63192.0</td>\n",
              "      <td>100.000</td>\n",
              "      <td>1556.0</td>\n",
              "      <td>1993.0</td>\n",
              "    </tr>\n",
              "    <tr>\n",
              "      <th>1</th>\n",
              "      <td>160.0</td>\n",
              "      <td>42.0</td>\n",
              "      <td>2667.0</td>\n",
              "      <td>37.141</td>\n",
              "      <td>63693.0</td>\n",
              "      <td>75.729</td>\n",
              "      <td>875.0</td>\n",
              "      <td>1163.0</td>\n",
              "    </tr>\n",
              "    <tr>\n",
              "      <th>2</th>\n",
              "      <td>168.0</td>\n",
              "      <td>34.0</td>\n",
              "      <td>6393.0</td>\n",
              "      <td>79.635</td>\n",
              "      <td>42883.0</td>\n",
              "      <td>76.948</td>\n",
              "      <td>636.0</td>\n",
              "      <td>1611.0</td>\n",
              "    </tr>\n",
              "    <tr>\n",
              "      <th>3</th>\n",
              "      <td>57.0</td>\n",
              "      <td>37.0</td>\n",
              "      <td>7175.0</td>\n",
              "      <td>72.843</td>\n",
              "      <td>63806.0</td>\n",
              "      <td>78.836</td>\n",
              "      <td>1587.0</td>\n",
              "      <td>2172.0</td>\n",
              "    </tr>\n",
              "    <tr>\n",
              "      <th>4</th>\n",
              "      <td>25.0</td>\n",
              "      <td>46.0</td>\n",
              "      <td>5041.0</td>\n",
              "      <td>23.188</td>\n",
              "      <td>70908.0</td>\n",
              "      <td>59.579</td>\n",
              "      <td>756.0</td>\n",
              "      <td>1992.0</td>\n",
              "    </tr>\n",
              "  </tbody>\n",
              "</table>\n",
              "</div>"
            ],
            "text/plain": [
              "   loan_amount  ...  number_of_1_to_4_family_units\n",
              "0        139.0  ...                         1993.0\n",
              "1        160.0  ...                         1163.0\n",
              "2        168.0  ...                         1611.0\n",
              "3         57.0  ...                         2172.0\n",
              "4         25.0  ...                         1992.0\n",
              "\n",
              "[5 rows x 8 columns]"
            ]
          },
          "metadata": {
            "tags": []
          },
          "execution_count": 17
        }
      ]
    },
    {
      "cell_type": "code",
      "metadata": {
        "id": "Z3jDgXP_O7VZ",
        "colab_type": "code",
        "outputId": "a489cc38-d130-410c-b262-e227bd8947c7",
        "colab": {
          "base_uri": "https://localhost:8080/",
          "height": 34
        }
      },
      "source": [
        "num_feature.shape"
      ],
      "execution_count": 0,
      "outputs": [
        {
          "output_type": "execute_result",
          "data": {
            "text/plain": [
              "(200000, 8)"
            ]
          },
          "metadata": {
            "tags": []
          },
          "execution_count": 18
        }
      ]
    },
    {
      "cell_type": "code",
      "metadata": {
        "scrolled": true,
        "id": "g5Nssl4TO7Va",
        "colab_type": "code",
        "colab": {}
      },
      "source": [
        "X_df = pd.concat([num_feature, cat_feature_one_hot], axis =1)"
      ],
      "execution_count": 0,
      "outputs": []
    },
    {
      "cell_type": "code",
      "metadata": {
        "id": "kiE71Pr8O7Vc",
        "colab_type": "code",
        "colab": {}
      },
      "source": [
        "X = np.concatenate((num_feature, cat_feature_one_hot), axis = 1)"
      ],
      "execution_count": 0,
      "outputs": []
    },
    {
      "cell_type": "code",
      "metadata": {
        "id": "k4N8B_QtO7Ve",
        "colab_type": "code",
        "outputId": "6de6d65d-3781-425f-d646-0e99085ab4e7",
        "colab": {
          "base_uri": "https://localhost:8080/",
          "height": 34
        }
      },
      "source": [
        "X.shape"
      ],
      "execution_count": 0,
      "outputs": [
        {
          "output_type": "execute_result",
          "data": {
            "text/plain": [
              "(200000, 330)"
            ]
          },
          "metadata": {
            "tags": []
          },
          "execution_count": 21
        }
      ]
    },
    {
      "cell_type": "code",
      "metadata": {
        "id": "UGjj06zaO7Vj",
        "colab_type": "code",
        "colab": {}
      },
      "source": [
        "#Y = pd.DataFrame(Y)"
      ],
      "execution_count": 0,
      "outputs": []
    },
    {
      "cell_type": "code",
      "metadata": {
        "id": "8AOsYDbXO7Vl",
        "colab_type": "code",
        "colab": {}
      },
      "source": [
        " X_train, X_val, Y_train, Y_val = train_test_split(X, Y, test_size = 0.2, random_state = 42)"
      ],
      "execution_count": 0,
      "outputs": []
    },
    {
      "cell_type": "code",
      "metadata": {
        "id": "ZoJaibi97aYf",
        "colab_type": "code",
        "outputId": "9b6f31d8-1cac-424c-e2a8-1d206ec6998c",
        "colab": {
          "base_uri": "https://localhost:8080/",
          "height": 34
        }
      },
      "source": [
        "Y_train.shape"
      ],
      "execution_count": 0,
      "outputs": [
        {
          "output_type": "execute_result",
          "data": {
            "text/plain": [
              "(160000,)"
            ]
          },
          "metadata": {
            "tags": []
          },
          "execution_count": 24
        }
      ]
    },
    {
      "cell_type": "code",
      "metadata": {
        "id": "0vCSb8m9O7Vs",
        "colab_type": "code",
        "colab": {}
      },
      "source": [
        "test_values = test_values.astype({'loan_type': 'category', 'property_type':'category', 'loan_purpose':'category', \n",
        "               'occupancy':'category', 'preapproval':'category', 'msa_md':'category', 'state_code':'category',\n",
        "                'county_code':'category', 'applicant_ethnicity':'category', 'applicant_race':'category',\n",
        "               'applicant_sex':'category', 'lender':'category', 'co_applicant':'category'})"
      ],
      "execution_count": 0,
      "outputs": []
    },
    {
      "cell_type": "code",
      "metadata": {
        "id": "ZZKJs88IO7Vu",
        "colab_type": "code",
        "colab": {}
      },
      "source": [
        "for c in cols:\n",
        "    temp = data[data[c].notna()]\n",
        "    test_values[c] = test_values[c].fillna(temp[c].mean())\n",
        "    test_set = test_values.drop(['row_id','lender','msa_md',\n",
        "                'state_code','applicant_ethnicity', \n",
        "                'preapproval', 'applicant_race', 'occupancy'\n",
        "                ], axis = 1)"
      ],
      "execution_count": 0,
      "outputs": []
    },
    {
      "cell_type": "code",
      "metadata": {
        "id": "OkzB5e2_xUc0",
        "colab_type": "code",
        "outputId": "5f4b428e-972e-41e6-8bc5-b3d09f3747ca",
        "colab": {
          "base_uri": "https://localhost:8080/",
          "height": 334
        }
      },
      "source": [
        "test_set.describe()"
      ],
      "execution_count": 0,
      "outputs": [
        {
          "output_type": "execute_result",
          "data": {
            "text/html": [
              "<div>\n",
              "<style scoped>\n",
              "    .dataframe tbody tr th:only-of-type {\n",
              "        vertical-align: middle;\n",
              "    }\n",
              "\n",
              "    .dataframe tbody tr th {\n",
              "        vertical-align: top;\n",
              "    }\n",
              "\n",
              "    .dataframe thead th {\n",
              "        text-align: right;\n",
              "    }\n",
              "</style>\n",
              "<table border=\"1\" class=\"dataframe\">\n",
              "  <thead>\n",
              "    <tr style=\"text-align: right;\">\n",
              "      <th></th>\n",
              "      <th>loan_amount</th>\n",
              "      <th>applicant_income</th>\n",
              "      <th>population</th>\n",
              "      <th>minority_population_pct</th>\n",
              "      <th>ffiecmedian_family_income</th>\n",
              "      <th>tract_to_msa_md_income_pct</th>\n",
              "      <th>number_of_owner-occupied_units</th>\n",
              "      <th>number_of_1_to_4_family_units</th>\n",
              "    </tr>\n",
              "  </thead>\n",
              "  <tbody>\n",
              "    <tr>\n",
              "      <th>count</th>\n",
              "      <td>200000.000000</td>\n",
              "      <td>200000.000000</td>\n",
              "      <td>200000.00000</td>\n",
              "      <td>200000.000000</td>\n",
              "      <td>200000.000000</td>\n",
              "      <td>200000.000000</td>\n",
              "      <td>200000.000000</td>\n",
              "      <td>200000.000000</td>\n",
              "    </tr>\n",
              "    <tr>\n",
              "      <th>mean</th>\n",
              "      <td>142.952260</td>\n",
              "      <td>74.027461</td>\n",
              "      <td>5388.98009</td>\n",
              "      <td>34.066864</td>\n",
              "      <td>64611.188664</td>\n",
              "      <td>89.254808</td>\n",
              "      <td>1404.358262</td>\n",
              "      <td>1930.177173</td>\n",
              "    </tr>\n",
              "    <tr>\n",
              "      <th>std</th>\n",
              "      <td>145.685382</td>\n",
              "      <td>105.659626</td>\n",
              "      <td>2635.19257</td>\n",
              "      <td>27.757497</td>\n",
              "      <td>12682.044639</td>\n",
              "      <td>15.022003</td>\n",
              "      <td>701.887469</td>\n",
              "      <td>879.874217</td>\n",
              "    </tr>\n",
              "    <tr>\n",
              "      <th>min</th>\n",
              "      <td>1.000000</td>\n",
              "      <td>1.000000</td>\n",
              "      <td>6.00000</td>\n",
              "      <td>0.312000</td>\n",
              "      <td>17883.000000</td>\n",
              "      <td>6.320000</td>\n",
              "      <td>6.000000</td>\n",
              "      <td>1.000000</td>\n",
              "    </tr>\n",
              "    <tr>\n",
              "      <th>25%</th>\n",
              "      <td>66.000000</td>\n",
              "      <td>40.000000</td>\n",
              "      <td>3738.00000</td>\n",
              "      <td>10.910000</td>\n",
              "      <td>56763.750000</td>\n",
              "      <td>81.814000</td>\n",
              "      <td>937.000000</td>\n",
              "      <td>1351.000000</td>\n",
              "    </tr>\n",
              "    <tr>\n",
              "      <th>50%</th>\n",
              "      <td>116.000000</td>\n",
              "      <td>58.000000</td>\n",
              "      <td>4988.00000</td>\n",
              "      <td>25.994000</td>\n",
              "      <td>63613.000000</td>\n",
              "      <td>98.580000</td>\n",
              "      <td>1314.000000</td>\n",
              "      <td>1812.000000</td>\n",
              "    </tr>\n",
              "    <tr>\n",
              "      <th>75%</th>\n",
              "      <td>178.000000</td>\n",
              "      <td>81.000000</td>\n",
              "      <td>6444.00000</td>\n",
              "      <td>51.396000</td>\n",
              "      <td>71231.000000</td>\n",
              "      <td>100.000000</td>\n",
              "      <td>1738.000000</td>\n",
              "      <td>2349.000000</td>\n",
              "    </tr>\n",
              "    <tr>\n",
              "      <th>max</th>\n",
              "      <td>11594.000000</td>\n",
              "      <td>9941.000000</td>\n",
              "      <td>34168.00000</td>\n",
              "      <td>100.000000</td>\n",
              "      <td>125247.000000</td>\n",
              "      <td>100.000000</td>\n",
              "      <td>8758.000000</td>\n",
              "      <td>13619.000000</td>\n",
              "    </tr>\n",
              "  </tbody>\n",
              "</table>\n",
              "</div>"
            ],
            "text/plain": [
              "         loan_amount  ...  number_of_1_to_4_family_units\n",
              "count  200000.000000  ...                  200000.000000\n",
              "mean      142.952260  ...                    1930.177173\n",
              "std       145.685382  ...                     879.874217\n",
              "min         1.000000  ...                       1.000000\n",
              "25%        66.000000  ...                    1351.000000\n",
              "50%       116.000000  ...                    1812.000000\n",
              "75%       178.000000  ...                    2349.000000\n",
              "max     11594.000000  ...                   13619.000000\n",
              "\n",
              "[8 rows x 8 columns]"
            ]
          },
          "metadata": {
            "tags": []
          },
          "execution_count": 27
        }
      ]
    },
    {
      "cell_type": "code",
      "metadata": {
        "colab_type": "code",
        "id": "rnX3MootxZ5h",
        "colab": {}
      },
      "source": [
        "cf = test_set.select_dtypes(exclude=['float64'])\n",
        "cf_one_hot = pd.get_dummies(cat_feature)\n"
      ],
      "execution_count": 0,
      "outputs": []
    },
    {
      "cell_type": "code",
      "metadata": {
        "id": "kOYkiBysO7Vy",
        "colab_type": "code",
        "outputId": "93fecb58-2baa-4c01-9d50-ee4de3c2aaa4",
        "colab": {
          "base_uri": "https://localhost:8080/",
          "height": 136
        }
      },
      "source": [
        "nf =  test_set.select_dtypes(include=['float64'])\n",
        "X_test_prep = np.concatenate((nf, cf_one_hot), axis =1)\n",
        "print(X_test_prep)"
      ],
      "execution_count": 0,
      "outputs": [
        {
          "output_type": "stream",
          "text": [
            "[[4.6000e+01 5.0000e+01 1.0761e+04 ... 0.0000e+00 0.0000e+00 1.0000e+00]\n",
            " [1.7000e+02 1.5500e+02 2.2850e+03 ... 0.0000e+00 1.0000e+00 0.0000e+00]\n",
            " [1.7400e+02 1.0200e+02 7.7650e+03 ... 0.0000e+00 1.0000e+00 0.0000e+00]\n",
            " ...\n",
            " [5.6400e+02 1.6600e+02 8.7050e+03 ... 0.0000e+00 1.0000e+00 0.0000e+00]\n",
            " [1.1700e+02 6.7000e+01 6.4550e+03 ... 0.0000e+00 0.0000e+00 1.0000e+00]\n",
            " [2.4300e+02 5.1000e+01 3.3170e+03 ... 0.0000e+00 1.0000e+00 0.0000e+00]]\n"
          ],
          "name": "stdout"
        }
      ]
    },
    {
      "cell_type": "code",
      "metadata": {
        "id": "RBye4x2iO7V1",
        "colab_type": "code",
        "colab": {}
      },
      "source": [
        "scaler = RobustScaler().fit(X_train)\n",
        "X_train = scaler.transform(X_train) \n",
        "X_val = scaler.transform(X_val)\n",
        "X_test = scaler.transform(X_test_prep)"
      ],
      "execution_count": 0,
      "outputs": []
    },
    {
      "cell_type": "code",
      "metadata": {
        "id": "V1DXT4GgJ2x_",
        "colab_type": "code",
        "colab": {}
      },
      "source": [
        "def print_metrics(y_true, y_predicted):\n",
        "    ## First compute R^2 and the adjusted R^2\n",
        "    r2 = r2_score(y_true, y_predicted)    \n",
        "    ## Print the usual metrics and the R^2 values\n",
        "    print('Mean Square Error      = ' + str(mean_squared_error(y_true, y_predicted)))\n",
        "    print('Root Mean Square Error = ' + str(np.sqrt(mean_squared_error(y_true, y_predicted))))\n",
        "    print('Mean Absolute Error    = ' + str(mean_absolute_error(y_true, y_predicted)))\n",
        "    print('R^2                    = ' + str(r2))"
      ],
      "execution_count": 0,
      "outputs": []
    },
    {
      "cell_type": "markdown",
      "metadata": {
        "id": "FOhhkXGbj3-K",
        "colab_type": "text"
      },
      "source": [
        "# Light GBM"
      ]
    },
    {
      "cell_type": "code",
      "metadata": {
        "id": "Uy9Xjzs8SJuP",
        "colab_type": "code",
        "outputId": "81497e53-38ab-4e07-8075-e8c9a306987e",
        "colab": {
          "base_uri": "https://localhost:8080/",
          "height": 251
        }
      },
      "source": [
        "#lrs = [0.01,0.05,0.1,0.2,0.5]\n",
        "#mcs = [40,60,80,100]\n",
        "#md  = [11,12,15,20]\n",
        "#leaves = [15,31,63,127]\n",
        "#for l in leaves:\n",
        "  model = LGBMRegressor(boosting_type = 'dart', num_leaves = 255, learning_rate = 0.1, n_estimators = 1000, min_child_sample = 40)\n",
        "#model = LGBMRegressor()\n",
        "  model.fit(X_train,Y_train)\n",
        "  Y_train_pred = model.predict(X_train)\n",
        "#scores = cross_val_score(model, X_train, Y_train, cv = 5, sc)\n",
        "  Y_val_pred = model.predict(X_val)\n",
        "  print_metrics(Y_train,Y_train_pred)\n",
        "  print_metrics(Y_val, Y_val_pred)"
      ],
      "execution_count": 0,
      "outputs": [
        {
          "output_type": "error",
          "ename": "NameError",
          "evalue": "ignored",
          "traceback": [
            "\u001b[0;31m---------------------------------------------------------------------------\u001b[0m",
            "\u001b[0;31mNameError\u001b[0m                                 Traceback (most recent call last)",
            "\u001b[0;32m<ipython-input-2-ff22e8934e6c>\u001b[0m in \u001b[0;36m<module>\u001b[0;34m()\u001b[0m\n\u001b[0;32m----> 1\u001b[0;31m \u001b[0mmodel\u001b[0m \u001b[0;34m=\u001b[0m \u001b[0mLGBMRegressor\u001b[0m\u001b[0;34m(\u001b[0m\u001b[0mboosting_type\u001b[0m \u001b[0;34m=\u001b[0m \u001b[0;34m'dart'\u001b[0m\u001b[0;34m,\u001b[0m \u001b[0mnum_leaves\u001b[0m \u001b[0;34m=\u001b[0m \u001b[0;36m255\u001b[0m\u001b[0;34m,\u001b[0m \u001b[0mlearning_rate\u001b[0m \u001b[0;34m=\u001b[0m \u001b[0;36m0.1\u001b[0m\u001b[0;34m,\u001b[0m \u001b[0mn_estimators\u001b[0m \u001b[0;34m=\u001b[0m \u001b[0;36m1000\u001b[0m\u001b[0;34m,\u001b[0m \u001b[0mmin_child_sample\u001b[0m \u001b[0;34m=\u001b[0m \u001b[0;36m40\u001b[0m\u001b[0;34m)\u001b[0m\u001b[0;34m\u001b[0m\u001b[0;34m\u001b[0m\u001b[0m\n\u001b[0m\u001b[1;32m      2\u001b[0m \u001b[0;31m#model = LGBMRegressor()\u001b[0m\u001b[0;34m\u001b[0m\u001b[0;34m\u001b[0m\u001b[0;34m\u001b[0m\u001b[0m\n\u001b[1;32m      3\u001b[0m \u001b[0mmodel\u001b[0m\u001b[0;34m.\u001b[0m\u001b[0mfit\u001b[0m\u001b[0;34m(\u001b[0m\u001b[0mX_train\u001b[0m\u001b[0;34m,\u001b[0m\u001b[0mY_train\u001b[0m\u001b[0;34m)\u001b[0m\u001b[0;34m\u001b[0m\u001b[0;34m\u001b[0m\u001b[0m\n\u001b[1;32m      4\u001b[0m \u001b[0mY_train_pred\u001b[0m \u001b[0;34m=\u001b[0m \u001b[0mmodel\u001b[0m\u001b[0;34m.\u001b[0m\u001b[0mpredict\u001b[0m\u001b[0;34m(\u001b[0m\u001b[0mX_train\u001b[0m\u001b[0;34m)\u001b[0m\u001b[0;34m\u001b[0m\u001b[0;34m\u001b[0m\u001b[0m\n\u001b[1;32m      5\u001b[0m \u001b[0;31m#scores = cross_val_score(model, X_train, Y_train, cv = 5, sc)\u001b[0m\u001b[0;34m\u001b[0m\u001b[0;34m\u001b[0m\u001b[0;34m\u001b[0m\u001b[0m\n",
            "\u001b[0;31mNameError\u001b[0m: name 'LGBMRegressor' is not defined"
          ]
        }
      ]
    },
    {
      "cell_type": "code",
      "metadata": {
        "id": "cTwCnLC0MiNQ",
        "colab_type": "code",
        "colab": {}
      },
      "source": [
        "?LGBMRegressor"
      ],
      "execution_count": 0,
      "outputs": []
    },
    {
      "cell_type": "code",
      "metadata": {
        "id": "3RiYT8CqNOKh",
        "colab_type": "code",
        "colab": {}
      },
      "source": [
        "model = Ridge()\n",
        "scores = cross_val_score(model, X_train, Y_train, cv = 5)\n"
      ],
      "execution_count": 0,
      "outputs": []
    },
    {
      "cell_type": "code",
      "metadata": {
        "id": "4MMP5guPOGp_",
        "colab_type": "code",
        "outputId": "0361c0dc-348e-43bc-9b1f-7cc86f55772f",
        "colab": {
          "base_uri": "https://localhost:8080/",
          "height": 85
        }
      },
      "source": [
        "model = Ridge()\n",
        "model.fit(X_train,Y_train)\n",
        "Y_val_pred = model.predict(X_val)\n",
        "print_metrics(Y_val, Y_val_pred)"
      ],
      "execution_count": 0,
      "outputs": [
        {
          "output_type": "stream",
          "text": [
            "Mean Square Error      = 1.8063972586344739\n",
            "Root Mean Square Error = 1.3440227894773489\n",
            "Mean Absolute Error    = 0.8484783061089575\n",
            "R^2                    = 0.35834509865646935\n"
          ],
          "name": "stdout"
        }
      ]
    },
    {
      "cell_type": "code",
      "metadata": {
        "id": "9mGfJ4L9NaPS",
        "colab_type": "code",
        "outputId": "ee42e30b-3388-4947-bffa-2dcfb22195a5",
        "colab": {
          "base_uri": "https://localhost:8080/",
          "height": 34
        }
      },
      "source": [
        "scores"
      ],
      "execution_count": 0,
      "outputs": [
        {
          "output_type": "execute_result",
          "data": {
            "text/plain": [
              "array([0.38722524, 0.35920368, 0.3948499 , 0.35636215, 0.39812886])"
            ]
          },
          "metadata": {
            "tags": []
          },
          "execution_count": 51
        }
      ]
    },
    {
      "cell_type": "code",
      "metadata": {
        "id": "iqujU0C-UZxN",
        "colab_type": "code",
        "colab": {}
      },
      "source": [
        "#Y_test_pred = model.predict(X_test)\n",
        "#r2_score(Y_test, Y_test_pred)"
      ],
      "execution_count": 0,
      "outputs": []
    },
    {
      "cell_type": "code",
      "metadata": {
        "id": "KipspWqc47y7",
        "colab_type": "code",
        "outputId": "dd3d3b3e-6dfc-4198-8991-5696425977ec",
        "colab": {
          "base_uri": "https://localhost:8080/",
          "height": 326
        }
      },
      "source": [
        "Y_test_pred = model.predict(X_test)"
      ],
      "execution_count": 0,
      "outputs": [
        {
          "output_type": "error",
          "ename": "NotFittedError",
          "evalue": "ignored",
          "traceback": [
            "\u001b[0;31m---------------------------------------------------------------------------\u001b[0m",
            "\u001b[0;31mNotFittedError\u001b[0m                            Traceback (most recent call last)",
            "\u001b[0;32m<ipython-input-52-1c81ec64f3d2>\u001b[0m in \u001b[0;36m<module>\u001b[0;34m()\u001b[0m\n\u001b[0;32m----> 1\u001b[0;31m \u001b[0mY_val_pred\u001b[0m \u001b[0;34m=\u001b[0m \u001b[0mmodel\u001b[0m\u001b[0;34m.\u001b[0m\u001b[0mpredict\u001b[0m\u001b[0;34m(\u001b[0m\u001b[0mX_val\u001b[0m\u001b[0;34m)\u001b[0m\u001b[0;34m\u001b[0m\u001b[0;34m\u001b[0m\u001b[0m\n\u001b[0m",
            "\u001b[0;32m/usr/local/lib/python3.6/dist-packages/sklearn/linear_model/base.py\u001b[0m in \u001b[0;36mpredict\u001b[0;34m(self, X)\u001b[0m\n\u001b[1;32m    219\u001b[0m             \u001b[0mReturns\u001b[0m \u001b[0mpredicted\u001b[0m \u001b[0mvalues\u001b[0m\u001b[0;34m.\u001b[0m\u001b[0;34m\u001b[0m\u001b[0;34m\u001b[0m\u001b[0m\n\u001b[1;32m    220\u001b[0m         \"\"\"\n\u001b[0;32m--> 221\u001b[0;31m         \u001b[0;32mreturn\u001b[0m \u001b[0mself\u001b[0m\u001b[0;34m.\u001b[0m\u001b[0m_decision_function\u001b[0m\u001b[0;34m(\u001b[0m\u001b[0mX\u001b[0m\u001b[0;34m)\u001b[0m\u001b[0;34m\u001b[0m\u001b[0;34m\u001b[0m\u001b[0m\n\u001b[0m\u001b[1;32m    222\u001b[0m \u001b[0;34m\u001b[0m\u001b[0m\n\u001b[1;32m    223\u001b[0m     \u001b[0m_preprocess_data\u001b[0m \u001b[0;34m=\u001b[0m \u001b[0mstaticmethod\u001b[0m\u001b[0;34m(\u001b[0m\u001b[0m_preprocess_data\u001b[0m\u001b[0;34m)\u001b[0m\u001b[0;34m\u001b[0m\u001b[0;34m\u001b[0m\u001b[0m\n",
            "\u001b[0;32m/usr/local/lib/python3.6/dist-packages/sklearn/linear_model/base.py\u001b[0m in \u001b[0;36m_decision_function\u001b[0;34m(self, X)\u001b[0m\n\u001b[1;32m    200\u001b[0m \u001b[0;34m\u001b[0m\u001b[0m\n\u001b[1;32m    201\u001b[0m     \u001b[0;32mdef\u001b[0m \u001b[0m_decision_function\u001b[0m\u001b[0;34m(\u001b[0m\u001b[0mself\u001b[0m\u001b[0;34m,\u001b[0m \u001b[0mX\u001b[0m\u001b[0;34m)\u001b[0m\u001b[0;34m:\u001b[0m\u001b[0;34m\u001b[0m\u001b[0;34m\u001b[0m\u001b[0m\n\u001b[0;32m--> 202\u001b[0;31m         \u001b[0mcheck_is_fitted\u001b[0m\u001b[0;34m(\u001b[0m\u001b[0mself\u001b[0m\u001b[0;34m,\u001b[0m \u001b[0;34m\"coef_\"\u001b[0m\u001b[0;34m)\u001b[0m\u001b[0;34m\u001b[0m\u001b[0;34m\u001b[0m\u001b[0m\n\u001b[0m\u001b[1;32m    203\u001b[0m \u001b[0;34m\u001b[0m\u001b[0m\n\u001b[1;32m    204\u001b[0m         \u001b[0mX\u001b[0m \u001b[0;34m=\u001b[0m \u001b[0mcheck_array\u001b[0m\u001b[0;34m(\u001b[0m\u001b[0mX\u001b[0m\u001b[0;34m,\u001b[0m \u001b[0maccept_sparse\u001b[0m\u001b[0;34m=\u001b[0m\u001b[0;34m[\u001b[0m\u001b[0;34m'csr'\u001b[0m\u001b[0;34m,\u001b[0m \u001b[0;34m'csc'\u001b[0m\u001b[0;34m,\u001b[0m \u001b[0;34m'coo'\u001b[0m\u001b[0;34m]\u001b[0m\u001b[0;34m)\u001b[0m\u001b[0;34m\u001b[0m\u001b[0;34m\u001b[0m\u001b[0m\n",
            "\u001b[0;32m/usr/local/lib/python3.6/dist-packages/sklearn/utils/validation.py\u001b[0m in \u001b[0;36mcheck_is_fitted\u001b[0;34m(estimator, attributes, msg, all_or_any)\u001b[0m\n\u001b[1;32m    912\u001b[0m \u001b[0;34m\u001b[0m\u001b[0m\n\u001b[1;32m    913\u001b[0m     \u001b[0;32mif\u001b[0m \u001b[0;32mnot\u001b[0m \u001b[0mall_or_any\u001b[0m\u001b[0;34m(\u001b[0m\u001b[0;34m[\u001b[0m\u001b[0mhasattr\u001b[0m\u001b[0;34m(\u001b[0m\u001b[0mestimator\u001b[0m\u001b[0;34m,\u001b[0m \u001b[0mattr\u001b[0m\u001b[0;34m)\u001b[0m \u001b[0;32mfor\u001b[0m \u001b[0mattr\u001b[0m \u001b[0;32min\u001b[0m \u001b[0mattributes\u001b[0m\u001b[0;34m]\u001b[0m\u001b[0;34m)\u001b[0m\u001b[0;34m:\u001b[0m\u001b[0;34m\u001b[0m\u001b[0;34m\u001b[0m\u001b[0m\n\u001b[0;32m--> 914\u001b[0;31m         \u001b[0;32mraise\u001b[0m \u001b[0mNotFittedError\u001b[0m\u001b[0;34m(\u001b[0m\u001b[0mmsg\u001b[0m \u001b[0;34m%\u001b[0m \u001b[0;34m{\u001b[0m\u001b[0;34m'name'\u001b[0m\u001b[0;34m:\u001b[0m \u001b[0mtype\u001b[0m\u001b[0;34m(\u001b[0m\u001b[0mestimator\u001b[0m\u001b[0;34m)\u001b[0m\u001b[0;34m.\u001b[0m\u001b[0m__name__\u001b[0m\u001b[0;34m}\u001b[0m\u001b[0;34m)\u001b[0m\u001b[0;34m\u001b[0m\u001b[0;34m\u001b[0m\u001b[0m\n\u001b[0m\u001b[1;32m    915\u001b[0m \u001b[0;34m\u001b[0m\u001b[0m\n\u001b[1;32m    916\u001b[0m \u001b[0;34m\u001b[0m\u001b[0m\n",
            "\u001b[0;31mNotFittedError\u001b[0m: This Ridge instance is not fitted yet. Call 'fit' with appropriate arguments before using this method."
          ]
        }
      ]
    },
    {
      "cell_type": "code",
      "metadata": {
        "id": "mAETsuZeO7V_",
        "colab_type": "code",
        "colab": {}
      },
      "source": [
        "res = pd.DataFrame(Y_test_pred)"
      ],
      "execution_count": 0,
      "outputs": []
    },
    {
      "cell_type": "code",
      "metadata": {
        "id": "zx5poXVeO7WB",
        "colab_type": "code",
        "colab": {}
      },
      "source": [
        "take6  = pd.concat([data['row_id'],res], axis = 1)"
      ],
      "execution_count": 0,
      "outputs": []
    },
    {
      "cell_type": "code",
      "metadata": {
        "id": "FmdvuCGZO7WD",
        "colab_type": "code",
        "colab": {}
      },
      "source": [
        "take6.to_csv('/content/drive/My Drive/Final Capstone/take6.csv')"
      ],
      "execution_count": 0,
      "outputs": []
    },
    {
      "cell_type": "code",
      "metadata": {
        "id": "O__wCkGtO7WF",
        "colab_type": "code",
        "colab": {}
      },
      "source": [
        "f = plt.figure(figsize = (12,12))\n",
        "sns.heatmap(sad2.corr(), annot = True)"
      ],
      "execution_count": 0,
      "outputs": []
    },
    {
      "cell_type": "code",
      "metadata": {
        "id": "X1LfzFaaO7WN",
        "colab_type": "code",
        "colab": {}
      },
      "source": [
        ""
      ],
      "execution_count": 0,
      "outputs": []
    },
    {
      "cell_type": "code",
      "metadata": {
        "id": "hadZiVQyO7WP",
        "colab_type": "code",
        "colab": {}
      },
      "source": [
        ""
      ],
      "execution_count": 0,
      "outputs": []
    }
  ]
}